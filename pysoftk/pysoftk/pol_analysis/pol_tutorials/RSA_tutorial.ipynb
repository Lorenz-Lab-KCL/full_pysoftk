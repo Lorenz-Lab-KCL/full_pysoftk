{
 "cells": [
  {
   "cell_type": "markdown",
   "id": "264ef590",
   "metadata": {},
   "source": [
    "# Tutorial on the usage of RSA tool"
   ]
  },
  {
   "cell_type": "markdown",
   "id": "d8aa2cf7",
   "metadata": {},
   "source": [
    "This tutorial illsutrates how to use the RSA tool."
   ]
  },
  {
   "cell_type": "markdown",
   "id": "13f786b7",
   "metadata": {},
   "source": [
    "Before starting any analysis, load the neccesary modules for this class."
   ]
  },
  {
   "cell_type": "code",
   "execution_count": 1,
   "id": "9d188003",
   "metadata": {},
   "outputs": [
    {
     "name": "stderr",
     "output_type": "stream",
     "text": [
      "/home/raquellrdc/Desktop/PhD/mda_umap/lib/python3.10/site-packages/tqdm/auto.py:21: TqdmWarning: IProgress not found. Please update jupyter and ipywidgets. See https://ipywidgets.readthedocs.io/en/stable/user_install.html\n",
      "  from .autonotebook import tqdm as notebook_tqdm\n"
     ]
    }
   ],
   "source": [
    "from  utils_mda import MDA_input\n",
    "#from pysoftk.pol_analysis.tools.utils_mda import MDA_input\n",
    "from utils_tools import *\n",
    "#from pysoftk.pol_analysis.tools.utils_tools import *\n",
    "from make_micelle_whole import micelle_whole\n",
    "#from pysoftk.pol_analysis.make_micelle_whole import micelle_whole\n",
    "from ring_ring_analysis import RSA\n",
    "#from pysoftk.pol_analysis.ring_ring import RSA\n",
    "import numpy as np\n",
    "import pandas as pd"
   ]
  },
  {
   "cell_type": "markdown",
   "id": "b7554878",
   "metadata": {},
   "source": [
    "1. Select your trajectory files, it is recommended to use a tpr file for the topology and xtc file for the trajectory. Note that any MDAnalysis supported file can be used here. "
   ]
  },
  {
   "cell_type": "code",
   "execution_count": 2,
   "id": "0e08bf3f",
   "metadata": {},
   "outputs": [],
   "source": [
    "topology='data/f8bt_slab_quench.tpr'\n",
    "trajectory='data/1_frame_traj.xtc'"
   ]
  },
  {
   "cell_type": "markdown",
   "id": "941c8c34",
   "metadata": {},
   "source": [
    "The simulation where we are going to perform the analysis is on this very big system. Since the system is very big, we will only perform the analysis on one frame.\n",
    "\n",
    "![Image Alt Text](data/pictures_tutorial/ring_system.png)"
   ]
  },
  {
   "cell_type": "markdown",
   "id": "33570c80",
   "metadata": {},
   "source": [
    "Which is a simulation box filled with this polymer:\n",
    "\n",
    "![Image Alt Text](data/pictures_tutorial/ring_1_polymer.png)"
   ]
  },
  {
   "cell_type": "markdown",
   "id": "2b87d30c",
   "metadata": {},
   "source": [
    "This class requires minimal user input. Only the angle and distance cutoff are needed, as well as the name of the output file."
   ]
  },
  {
   "cell_type": "code",
   "execution_count": 5,
   "id": "9cad5766",
   "metadata": {},
   "outputs": [],
   "source": [
    "#name output file\n",
    "results='rsa.parquet'\n",
    "\n",
    "#angle cutoff - angle range (val < ang_c or val> 180-ang_c). \n",
    "ang_c=30\n",
    "\n",
    "#distance cutoff - distance between two rings to be considered stacked\n",
    "dist_c=5\n",
    "\n"
   ]
  },
  {
   "cell_type": "markdown",
   "id": "c5d5fbae",
   "metadata": {},
   "source": [
    "Now, let's run the RSA stacking analysis!-This run will take a bit of time, it is mainly because our system is very large!"
   ]
  },
  {
   "cell_type": "code",
   "execution_count": 6,
   "id": "e17a24e2",
   "metadata": {},
   "outputs": [
    {
     "name": "stdout",
     "output_type": "stream",
     "text": [
      "Ring Stacking analysis has started\n"
     ]
    },
    {
     "name": "stderr",
     "output_type": "stream",
     "text": [
      "100%|█████████████████████████████████████████████████████████████████████████████████████████████████████████████████████████████████| 300700/300700 [28:02<00:00, 178.69it/s]\n",
      "Detecting atoms in Rings: 100%|████████████████████████████████████████████████████████████████████████████████████████████████████████████| 8005/8005 [18:01<00:00,  7.40it/s]\n",
      "Separating Rings: 100%|██████████████████████████████████████████████████████████████████████████████████████████████████████████████████| 8005/8005 [00:01<00:00, 4697.99it/s]\n",
      "Computing stacking distances: 100%|████████████████████████████████████████████████████████████████████████████████████████████████████████| 8005/8005 [13:12<00:00, 10.10it/s]\n"
     ]
    },
    {
     "name": "stdout",
     "output_type": "stream",
     "text": [
      "\n",
      "\n",
      "Preparing DataFrame to store the results\n",
      "Information succesfully stored in rsa.parquet\n",
      "Stacking analysis has succesfully finished!\n",
      "Function stacking_analysis Took 3577.2412 seconds\n"
     ]
    }
   ],
   "source": [
    "rsa=RSA(topology, trajectory).stacking_analysis(dist_c, and_c, results)"
   ]
  },
  {
   "cell_type": "code",
   "execution_count": 3,
   "id": "68c58ffa",
   "metadata": {},
   "outputs": [
    {
     "name": "stdout",
     "output_type": "stream",
     "text": [
      "                                            atom_index   pol_resid\n",
      "0    [[[66, 99, 67, 68, 69, 76, 77, 83, 87, 60, 63,...    [1, 223]\n",
      "1    [[[579, 554, 587, 557, 590, 594, 595, 598, 574...     [2, 10]\n",
      "2    [[[1512, 1545, 1513, 1514, 1515, 1522, 1523, 1...    [4, 558]\n",
      "3    [[[1994, 2027, 1995, 1996, 1997, 2004, 2005, 2...    [5, 215]\n",
      "4    [[[2892, 2893, 2894, 2895, 2896, 2897, 2898, 2...     [7, 41]\n",
      "..                                                 ...         ...\n",
      "455  [[[348614, 348612, 348608, 348621, 348622, 348...  [724, 763]\n",
      "456  [[[356296, 356298, 356271, 356276, 356277, 356...  [740, 765]\n",
      "457  [[[359187, 359162, 359195, 359165, 359198, 359...  [746, 766]\n",
      "458  [[[359581, 359582, 359583, 359584, 359585, 359...  [747, 761]\n",
      "459  [[[362496, 362497, 362498, 362499, 362501, 362...  [753, 759]\n",
      "\n",
      "[460 rows x 2 columns]\n"
     ]
    }
   ],
   "source": [
    "\n",
    "df_results = 'rsa.parquet'\n",
    "df = pd.read_parquet(df_results)\n",
    "print(df)"
   ]
  },
  {
   "cell_type": "markdown",
   "id": "bfd86245",
   "metadata": {},
   "source": [
    "You will see that a lot of pdb files have been printed in the directory. These are just some results from the output where you can see visually the ring stacking!\n",
    "![Image Alt Text](data/pictures_tutorial/ring_stacking_snapshot_1.png)![Image Alt Text](data/pictures_tutorial/ring_stacking_snapshot_2.png)![Image Alt Text](data/pictures_tutorial/ring_stacking_snapshot_3.png)"
   ]
  },
  {
   "cell_type": "markdown",
   "id": "b821b2fd",
   "metadata": {},
   "source": [
    "We can make use of another function in the RSA class that output the network of polymers that have their rings stacked. All we need is the pandas dataframe outputed by the ring stacking calculation"
   ]
  },
  {
   "cell_type": "code",
   "execution_count": 5,
   "id": "2f8caf41",
   "metadata": {},
   "outputs": [],
   "source": [
    "sev_ring=RSA(topology, trajectory).find_several_rings_stacked(df_results)"
   ]
  },
  {
   "cell_type": "code",
   "execution_count": 7,
   "id": "349f177c",
   "metadata": {},
   "outputs": [
    {
     "name": "stdout",
     "output_type": "stream",
     "text": [
      "[{1, 322, 642, 262, 620, 216, 239, 212, 276, 182, 728, 348, 223}, {480, 2, 68, 10, 20, 88, 30, 607}, {96, 4, 558}, {131, 5, 393, 139, 396, 269, 143, 16, 15, 146, 661, 22, 150, 25, 539, 29, 158, 159, 37, 550, 293, 424, 165, 170, 299, 172, 171, 46, 426, 186, 187, 188, 444, 61, 576, 449, 326, 71, 327, 460, 79, 80, 81, 720, 84, 215, 90, 219, 221, 222, 352, 482, 226, 354, 363, 110, 366, 751, 113, 116, 244, 118, 119, 628, 381}, {321, 69, 7, 41, 530, 213, 379}, {514, 9, 457, 398, 441, 414}, {672, 194, 12, 677}, {42, 53, 13}, {504, 14, 431}, {161, 21}, {26, 372}, {207, 31}, {32, 98, 707, 740, 712, 747, 716, 589, 752, 369, 723, 343, 761, 765}, {33, 405, 551}, {34, 534}, {291, 35, 773, 36, 238, 402, 179, 283}, {74, 38}, {533, 39}, {40, 629, 166}, {481, 47}, {353, 134, 136, 776, 75, 50, 274, 277, 311, 760, 58, 315, 157}, {130, 518, 715, 51, 632, 731, 351}, {388, 517, 390, 526, 144, 531, 403, 419, 547, 421, 552, 554, 556, 175, 561, 690, 52, 438, 184, 447, 477, 99, 107, 109, 510}, {120, 185, 557, 54}, {501, 55}, {259, 680, 496, 497, 85, 56, 665, 639}, {57, 82, 173}, {227, 389, 618, 314, 399, 623, 273, 466, 471, 250, 667, 60, 604}, {736, 705, 385, 706, 775, 296, 137, 555, 108, 652, 686, 335, 588, 370, 63}, {64, 432}, {65, 247, 367}, {418, 67, 70, 422, 622, 465}, {72, 493, 83, 440, 89}, {73, 140}, {76, 365, 94}, {261, 519, 104, 77, 270, 529, 564, 411, 574}, {257, 129, 453, 429, 78}, {91, 443}, {768, 169, 92, 595, 700}, {97, 196}, {192, 577, 100, 292}, {640, 512, 645, 774, 391, 670, 439, 704, 452, 583, 458, 208, 596, 597, 724, 612, 106, 763, 636}, {486, 154, 168, 553, 117, 122, 575}, {123, 340, 373, 318}, {342, 127}, {128, 521, 155}, {258, 132, 374, 303}, {320, 325, 133, 744, 302, 469, 633}, {537, 339, 741, 135}, {344, 147, 316, 333}, {153, 713}, {520, 156, 408}, {160, 545}, {163, 317}, {456, 167}, {177, 682, 689, 599}, {416, 407, 549, 178, 246, 572, 473, 508, 190}, {193, 298, 543}, {201, 195}, {307, 371, 197}, {225, 611, 198, 205, 206, 657, 658, 217}, {256, 464, 199}, {200, 264, 210, 721}, {660, 664, 666, 290, 678, 436, 202, 334, 337, 211, 468, 341, 729, 606, 479, 230, 242, 502, 249, 638}, {234, 203}, {204, 294}, {392, 214}, {224, 267, 286}, {323, 265, 361, 235, 309}, {364, 245}, {248, 251, 693, 483}, {252, 260}, {507, 253}, {580, 679, 587, 590, 271, 281, 602}, {272, 585, 592, 356}, {280, 282}, {300, 734, 287}, {304, 377, 360}, {336, 305}, {489, 692, 308, 605}, {313, 338, 357}, {324, 647, 563, 755, 601, 698, 701}, {328, 350, 375}, {737, 733, 616, 332, 621, 688, 625, 756, 568, 730, 635, 509, 511}, {523, 346, 571, 655}, {347, 358}, {362, 541, 349}, {355, 387}, {368, 384}, {745, 386}, {394, 739}, {395, 478}, {412, 579, 404}, {417, 454, 425, 624, 656, 470, 631, 410, 475}, {484, 446, 415}, {433, 527}, {434, 491, 581}, {499, 462}, {472, 674, 467}, {648, 485}, {488, 536, 573, 567}, {524, 764}, {627, 559}, {569, 711}, {570, 653}, {610, 644, 591}, {669, 598, 671}, {600, 646}, {714, 603}, {609, 749, 695}, {637, 687}, {641, 681}, {726, 694}, {738, 708}, {746, 766}, {753, 759}]\n"
     ]
    }
   ],
   "source": [
    "#print the resids of the networ of polymers connected by their stacked rings\n",
    "print(sev_ring)"
   ]
  },
  {
   "cell_type": "markdown",
   "id": "b35e1ef6",
   "metadata": {},
   "source": [
    "Let's check by visual inspection if the polymers in the second network are conenected.\n",
    "![Image Alt Text](data/pictures_tutorial/network_rings_stacked.png)"
   ]
  },
  {
   "cell_type": "markdown",
   "id": "7414abbd",
   "metadata": {},
   "source": [
    "These polymers are all conected by polymers with ring stacking!"
   ]
  }
 ],
 "metadata": {
  "kernelspec": {
   "display_name": "Python 3 (ipykernel)",
   "language": "python",
   "name": "python3"
  },
  "language_info": {
   "codemirror_mode": {
    "name": "ipython",
    "version": 3
   },
   "file_extension": ".py",
   "mimetype": "text/x-python",
   "name": "python",
   "nbconvert_exporter": "python",
   "pygments_lexer": "ipython3",
   "version": "3.10.12"
  }
 },
 "nbformat": 4,
 "nbformat_minor": 5
}
